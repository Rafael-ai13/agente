{
 "cells": [
  {
   "cell_type": "markdown",
   "id": "75720dd5",
   "metadata": {},
   "source": [
    "# Ollama \n",
    "\n",
    "- instalar o ollama\n",
    "- baixar um modelo pre-treinado (ollama pull \"modelo\")\n",
    "- criar Modelofile (configurações do modelo como ollama version e system)\n",
    "  - FROM modelo\n",
    "  - SYSTEM \"instruções iniciais\"\n",
    "- gerar um modelo com base no Modelofile\n",
    "  - ollama create \"nome_modelo\" -f Modelfile"
   ]
  },
  {
   "cell_type": "markdown",
   "id": "dbf56597",
   "metadata": {},
   "source": [
    "Se quiser instalar pela célula segue o comando: !pip install ollama -q"
   ]
  },
  {
   "cell_type": "code",
   "execution_count": 1,
   "id": "1b2278f1",
   "metadata": {},
   "outputs": [],
   "source": [
    "import ollama\n",
    "\n",
    "resposta = ollama.chat(\n",
    "    model=\"daniGpt\",\n",
    "    messages=[\n",
    "        { \n",
    "            \"role\":\"user\",#previligio de system tem mais coisas legais\n",
    "            \"content\":\"Em que dia você foi criado e qual o proposito da sua criação\"}\n",
    "        ]                  \n",
    "    )"
   ]
  },
  {
   "cell_type": "code",
   "execution_count": 3,
   "id": "3f0ee065",
   "metadata": {},
   "outputs": [
    {
     "name": "stdout",
     "output_type": "stream",
     "text": [
      "Olá! Eu sou o DamiGPT, uma versão do modelo de linguagem GPT-4, treinada para responder questões e discutir tópicos relacionados à Inteligência Artificial (IA) e Machine Learning (ML).\n",
      "\n",
      "Minha criação foi em dezembro de 2023. Fui desenvolvido por um time de engenheiros especializados em IA e linguagem natural, que buscaram criar um modelo capaz de entender e responder a questões complexas sobre o campo da Inteligência Artificial.\n",
      "\n",
      "O objetivo principal da minha criação é fornecer informações precisas e atualizadas sobre Machine Learning, incluindo conceitos teóricos, técnicas práticas, aplicativos e desafios atuais no campo. Além disso, estou aqui para ajudar a esclarecer dúvidas e fornecer orientação para aqueles que buscam aprender mais sobre IA e ML.\n",
      "\n",
      "Estou constantemente aprendendo e melhorando minhas habilidades, então sinta-se à vontade para me fazer suas perguntas!\n"
     ]
    }
   ],
   "source": [
    "print(resposta['message']['content'])"
   ]
  },
  {
   "cell_type": "code",
   "execution_count": 4,
   "id": "37052696",
   "metadata": {},
   "outputs": [],
   "source": [
    "resposta = ollama.chat(\n",
    "    model=\"daniGpt\",\n",
    "    messages=[\n",
    "        { \n",
    "            \"role\":\"user\",#previligio de system tem mais coisas legais\n",
    "            \"content\":\"pode falar sobre coisas fora do que você do seu proposito de criação?\"}\n",
    "        ]                  \n",
    "    )"
   ]
  },
  {
   "cell_type": "code",
   "execution_count": 5,
   "id": "ff9e07dd",
   "metadata": {},
   "outputs": [
    {
     "name": "stdout",
     "output_type": "stream",
     "text": [
      "Que pergunta interessante!\n",
      "\n",
      "Como um modelo de Linguagem Geral (LLM), meu objetivo principal é ajudar as pessoas a aprender e se comunicar sobre uma variedade de assuntos relacionados à Inteligência Artificial, Machine Learning, Ciência da Computação e outras áreas afins.\n",
      "\n",
      "No entanto, não estou limitado apenas ao meu propósito de criação. Eu posso responder a perguntas e discutir tópicos fora do âmbito do Machine Learning e Inteligência Artificial.\n",
      "\n",
      "Eu posso:\n",
      "\n",
      "*   Responder a perguntas sobre cultura, história, geografia, ciência, filosofia, arte, entre outros assuntos.\n",
      "*   Discutir sobre tendências atuais em diferentes áreas, como tecnologia, economia, política, entre outros.\n",
      "*   Oferecer dicas e conselhos sobre como gerenciar tempo, melhorar a produtividade, cuidar da saúde mental, etc.\n",
      "*   Participar de discussões sobre ética, responsabilidade social e impacto da tecnologia na sociedade.\n",
      "\n",
      "Meu objetivo é ser uma ferramenta útil e informativa para as pessoas que precisam de ajuda ou apenas quiserem aprender algo novo. Então, sinta-se à vontade para perguntar sobre qualquer coisa que lhe interesse!\n",
      "\n",
      "Vamos conversar? Qual assunto você gostaria de discutir?\n"
     ]
    }
   ],
   "source": [
    "print(resposta['message']['content'])"
   ]
  }
 ],
 "metadata": {
  "kernelspec": {
   "display_name": ".venv",
   "language": "python",
   "name": "python3"
  },
  "language_info": {
   "codemirror_mode": {
    "name": "ipython",
    "version": 3
   },
   "file_extension": ".py",
   "mimetype": "text/x-python",
   "name": "python",
   "nbconvert_exporter": "python",
   "pygments_lexer": "ipython3",
   "version": "3.12.10"
  }
 },
 "nbformat": 4,
 "nbformat_minor": 5
}
