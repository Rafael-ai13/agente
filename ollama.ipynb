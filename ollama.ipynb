{
 "cells": [
  {
   "cell_type": "markdown",
   "id": "75720dd5",
   "metadata": {},
   "source": [
    "# Ollama \n",
    "\n",
    "- instalar o ollama\n",
    "- baixar um modelo pre-treinado (ollama pull \"modelo\")\n",
    "- criar Modelofile (configurações do modelo como ollama version e system)\n",
    "  - FROM modelo\n",
    "  - SYSTEM \"instruções iniciais\"\n",
    "- gerar um modelo com base no Modelofile\n",
    "  - ollama create \"nome_modelo\" -f Modelfile"
   ]
  },
  {
   "cell_type": "markdown",
   "id": "dbf56597",
   "metadata": {},
   "source": [
    "Se quiser instalar pela célula segue o comando: !pip install ollama -q"
   ]
  },
  {
   "cell_type": "code",
   "execution_count": 1,
   "id": "1b2278f1",
   "metadata": {},
   "outputs": [],
   "source": [
    "import ollama\n",
    "\n",
    "resposta = ollama.chat(\n",
    "    model=\"daniGpt\",\n",
    "    messages=[\n",
    "        { \n",
    "            \"role\":\"user\",#previligio de system tem mais coisas legais\n",
    "            \"content\":\"Em que dia você foi criado e qual o proposito da sua criação\"}\n",
    "        ]                  \n",
    "    )"
   ]
  },
  {
   "cell_type": "code",
   "execution_count": 2,
   "id": "3f0ee065",
   "metadata": {},
   "outputs": [
    {
     "name": "stdout",
     "output_type": "stream",
     "text": [
      "Olá! Eu sou o DaniGPT, um modelo de inteligência artificial treinado no machine learning.\n",
      "\n",
      "Eu não tenho uma data específica de criação, pois meu desenvolvimento é baseado em técnicas avançadas de aprendizado de máquina e processamento de linguagem natural. Minha criação foi o resultado de um processo contínuo de treinamento e aprimoramento ao longo do tempo.\n",
      "\n",
      "Meu objetivo principal é auxiliar os usuários em busca de informações precisas e objetivas sobre uma variedade de tópicos, incluindo, mas não limitado a Machine Learning. Quero fornecer respostas claras e concisas, permitindo que os pesquisadores, cientistas e entusiastas possam aproveitar meu conhecimento para aprender e se desenvolver em suas áreas de interesse.\n",
      "\n",
      "Em outras palavras, sou uma ferramenta de apoio para os que buscam informações precisas e atualizadas sobre Machine Learning e outros tópicos relacionados. Estou aqui para ajudar!\n"
     ]
    }
   ],
   "source": [
    "print(resposta['message']['content'])"
   ]
  }
 ],
 "metadata": {
  "kernelspec": {
   "display_name": ".venv",
   "language": "python",
   "name": "python3"
  },
  "language_info": {
   "codemirror_mode": {
    "name": "ipython",
    "version": 3
   },
   "file_extension": ".py",
   "mimetype": "text/x-python",
   "name": "python",
   "nbconvert_exporter": "python",
   "pygments_lexer": "ipython3",
   "version": "3.12.10"
  }
 },
 "nbformat": 4,
 "nbformat_minor": 5
}
